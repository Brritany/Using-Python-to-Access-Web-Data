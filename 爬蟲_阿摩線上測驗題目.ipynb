{
  "nbformat": 4,
  "nbformat_minor": 0,
  "metadata": {
    "colab": {
      "provenance": [],
      "authorship_tag": "ABX9TyPnIw2tIlEPgWm+EzDdAb/v",
      "include_colab_link": true
    },
    "kernelspec": {
      "name": "python3",
      "display_name": "Python 3"
    },
    "language_info": {
      "name": "python"
    }
  },
  "cells": [
    {
      "cell_type": "markdown",
      "metadata": {
        "id": "view-in-github",
        "colab_type": "text"
      },
      "source": [
        "<a href=\"https://colab.research.google.com/github/Brritany/Using-Python-to-Access-Web-Data/blob/main/%E7%88%AC%E8%9F%B2_%E9%98%BF%E6%91%A9%E7%B7%9A%E4%B8%8A%E6%B8%AC%E9%A9%97%E9%A1%8C%E7%9B%AE.ipynb\" target=\"_parent\"><img src=\"https://colab.research.google.com/assets/colab-badge.svg\" alt=\"Open In Colab\"/></a>"
      ]
    },
    {
      "cell_type": "code",
      "execution_count": null,
      "metadata": {
        "id": "BXv5x4QFSRvU"
      },
      "outputs": [],
      "source": [
        "import requests\n",
        "from bs4 import BeautifulSoup\n",
        "\n",
        "url = 'https://yamol.tw/itemtag.php?id=102142&offset=0' #輸入要爬取的網址\n",
        "r = requests.get(url) #訪問網站，正常會顯示 respone 200\n",
        "r.encoding = 'utf-8'\n",
        "sp = BeautifulSoup(r.text, 'html.parser') #解析網站"
      ]
    },
    {
      "cell_type": "code",
      "source": [
        "datas = sp.find_all('div', class_='col-lg-12 reponse-card')\n",
        "for data in datas: # 使用迴圈爬取一筆筆資料\n",
        "  if data.span:\n",
        "    print(data.find(attrs={'class': 'itemcontent'}).text)\n",
        "    print(data.find(attrs={'class':'alert alert-success'}).find('a').string)\n",
        "    print('___________________________') #區隔題目  "
      ],
      "metadata": {
        "id": "jmuXhMUyY7oD"
      },
      "execution_count": null,
      "outputs": []
    }
  ]
}